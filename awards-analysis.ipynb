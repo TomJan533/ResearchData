{
 "cells": [
  {
   "cell_type": "code",
   "execution_count": 1,
   "id": "7227fafd-1042-48a3-b21a-504c15010375",
   "metadata": {},
   "outputs": [],
   "source": [
    "# import data and utils\n",
    "import pandas as pd\n",
    "from utils import extract_root_domain\n",
    "\n",
    "awards = pd.read_csv('recruitment - awards.csv')\n",
    "emails = pd.read_csv('recruitment - emails.csv')"
   ]
  },
  {
   "cell_type": "code",
   "execution_count": null,
   "id": "6eb034a8",
   "metadata": {},
   "outputs": [],
   "source": [
    "# check data structrure\n",
    "awards.head(2)"
   ]
  },
  {
   "cell_type": "code",
   "execution_count": null,
   "id": "3798ef13",
   "metadata": {},
   "outputs": [],
   "source": [
    "# check data structrure\n",
    "emails.head(5)"
   ]
  },
  {
   "cell_type": "code",
   "execution_count": null,
   "id": "3b55ed98",
   "metadata": {},
   "outputs": [],
   "source": [
    "# apply data transformation\n",
    "awards['Domain'] = awards['url'].apply(extract_root_domain)\n",
    "\n",
    "# clean emails data \n",
    "emails['Domain'] = emails['Domain'].str.lower()\n",
    "\n",
    "# check results\n",
    "awards['Domain'].unique()"
   ]
  },
  {
   "cell_type": "code",
   "execution_count": null,
   "id": "50e7f507",
   "metadata": {},
   "outputs": [],
   "source": [
    "# merge data (left join)\n",
    "merged_df = emails.merge(awards, on='Domain', how='left')\n",
    "merged_df.head(2)"
   ]
  },
  {
   "cell_type": "code",
   "execution_count": null,
   "id": "4ec8d198",
   "metadata": {},
   "outputs": [],
   "source": [
    "# prepare columns for filtering\n",
    "merged_df.columns"
   ]
  },
  {
   "cell_type": "code",
   "execution_count": null,
   "id": "f4a2a5f1",
   "metadata": {},
   "outputs": [],
   "source": [
    "# filter columns for join check\n",
    "columns = ['Email', 'First name', 'Last name', 'Full name', 'Company name',\n",
    "       'Domain', 'institutionName', 'url']\n",
    "\n",
    "merged_df_check = merged_df[columns]\n",
    "merged_df_check.head(2)"
   ]
  },
  {
   "cell_type": "code",
   "execution_count": 8,
   "id": "bf362ca0",
   "metadata": {},
   "outputs": [],
   "source": [
    "# save to csv (check)\n",
    "merged_df_check.to_csv('emails - awards (join check).csv', index=False)"
   ]
  },
  {
   "cell_type": "code",
   "execution_count": 9,
   "id": "0f09bb18",
   "metadata": {},
   "outputs": [],
   "source": [
    "# save to csv (final result)\n",
    "merged_df.to_csv('emails - awards (full).csv', index=False)"
   ]
  }
 ],
 "metadata": {
  "kernelspec": {
   "display_name": "Python 3 (ipykernel)",
   "language": "python",
   "name": "python3"
  },
  "language_info": {
   "codemirror_mode": {
    "name": "ipython",
    "version": 3
   },
   "file_extension": ".py",
   "mimetype": "text/x-python",
   "name": "python",
   "nbconvert_exporter": "python",
   "pygments_lexer": "ipython3",
   "version": "3.12.3"
  }
 },
 "nbformat": 4,
 "nbformat_minor": 5
}
